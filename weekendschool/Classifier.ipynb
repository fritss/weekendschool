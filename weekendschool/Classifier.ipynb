{
 "cells": [
  {
   "cell_type": "code",
   "execution_count": null,
   "metadata": {},
   "outputs": [],
   "source": [
    "import cv2\n",
    "import os\n",
    "from pathlib import Path\n",
    "import random as rd\n",
    "import numpy as np\n",
    "from PIL import Image\n",
    "\n",
    "import tensorflow as tf\n",
    "from tensorflow.keras.utils import to_categorical\n",
    "from tensorflow.keras import applications\n",
    "from tensorflow.keras.layers import Dense, Flatten\n",
    "from tensorflow.keras import Model\n",
    "from tensorflow.keras.models import load_model\n",
    "from tensorflow.keras.callbacks import ModelCheckpoint\n",
    "from tensorflow.keras.optimizers import Adam\n",
    "\n",
    "from hulp_functies import plot_model, plot_images, generate_metadata\n",
    "rd.seed(42)"
   ]
  },
  {
   "cell_type": "markdown",
   "metadata": {},
   "source": [
    "### Resize de foto's\n",
    "Zorg dat de gemaakte foto's de grootte van het neurale netwerk hebben (224 x 224 x 3). En splits de foto's van de voorwerpen in een training set en een test set.\n",
    "\n",
    "De code in de volgende twee cellen leest de plaatjes uit de folder `camera`, resizet ze naar het juiste formaat en splitst ze op in een folder `train` en een folder `test`. Het resultaat komt in de folder `images_224`.\n",
    "\n",
    "De plaatjes uit `train` worden gebruikt om het neurale netwerk te trainen, de plaatjes uit `test` worden gebruikt om te kijken hoe goed de training gelukt is."
   ]
  },
  {
   "cell_type": "code",
   "execution_count": null,
   "metadata": {},
   "outputs": [],
   "source": [
    "size = 224\n",
    "channels = 3\n",
    "input_shape = (size, size, channels)\n",
    "\n",
    "camera_dir = Path('camera')\n",
    "voorwerp_dir = camera_dir / 'voorwerpen'\n",
    "voorwerp_fn = Path('voorwerpen.txt')\n",
    "achtergrond_fn = 'achtergrond'\n",
    "resize_dir = Path(f'images_{size}')\n",
    "\n",
    "classes = os.listdir(voorwerp_dir)\n",
    "n_classes = len(classes)\n",
    "class_nums = {c:i for i,c in enumerate(classes)}\n",
    "\n",
    "with open(voorwerp_fn, 'w') as f:\n",
    "    f.write('\\n'.join(classes))    "
   ]
  },
  {
   "cell_type": "code",
   "execution_count": null,
   "metadata": {},
   "outputs": [],
   "source": [
    "(resize_dir / achtergrond_fn).mkdir(exist_ok=True, parents=True)\n",
    "for c in classes:\n",
    "    (resize_dir / 'train' / c).mkdir(exist_ok=True, parents=True)\n",
    "    (resize_dir / 'test'  / c).mkdir(exist_ok=True, parents=True) \n",
    "\n",
    "for c in classes:\n",
    "    ims = os.listdir(voorwerp_dir / c)\n",
    "    rd.shuffle(ims)\n",
    "    Ntest = len(ims) // 5\n",
    "    for i, im in enumerate(ims):\n",
    "        dir_name = 'test' if i < Ntest else 'train'\n",
    "        image = cv2.imread(str(voorwerp_dir / c / im))\n",
    "        image_resized = cv2.resize(image, (size, size))\n",
    "        cv2.imwrite(str(resize_dir / dir_name / c / f'{str(i)}.png'), image_resized)\n",
    "            \n",
    "for i, im in enumerate(os.listdir(camera_dir / achtergrond_fn)):\n",
    "    image = cv2.imread(str(camera_dir / achtergrond_fn / im))\n",
    "    image_resized = cv2.resize(image, (size, size))\n",
    "    cv2.imwrite(str(resize_dir / achtergrond_fn / f'{str(i)}.png'), image_resized)    "
   ]
  },
  {
   "cell_type": "markdown",
   "metadata": {},
   "source": [
    "### Train het neurale netwerk"
   ]
  },
  {
   "cell_type": "markdown",
   "metadata": {},
   "source": [
    "#### Maak de folders\n",
    "Tijdens het trainen make we een aantal modellen en een aantal grafieken. Deze modellen en grafieken worden in aparte folders gezet. De code in de volgende cel maakt die folders."
   ]
  },
  {
   "cell_type": "code",
   "execution_count": null,
   "metadata": {},
   "outputs": [],
   "source": [
    "keras_name = 'model_mobilenet.h5'\n",
    "lite_name = 'model_mobilenet.tflite'\n",
    "json_name = 'model_mobilenet.json'\n",
    "\n",
    "model_dir = Path('models')\n",
    "saved_model_dir = Path('saved_models')\n",
    "export_model_dir = Path('export_models')\n",
    "plot_dir = Path('plots')\n",
    "\n",
    "model_dir.mkdir(exist_ok=True)\n",
    "saved_model_dir.mkdir(exist_ok=True)\n",
    "export_model_dir.mkdir(exist_ok=True)\n",
    "plot_dir.mkdir(exist_ok=True)"
   ]
  },
  {
   "cell_type": "markdown",
   "metadata": {},
   "source": [
    "#### Lees de data\n",
    "\n",
    "De foto's die je geplaatst hebt in de folder `camera` zijn ge-resized en in de folder `images_224` gezet. De volgende twee cellen lezen deze plaatjes in en zetten ce in een array in het werkgeheugen van je computer."
   ]
  },
  {
   "cell_type": "code",
   "execution_count": null,
   "metadata": {},
   "outputs": [],
   "source": [
    "def import_voorwerpen(p):\n",
    "    images = {}\n",
    "    \n",
    "    for c in classes:\n",
    "        class_dir = p / c\n",
    "        im_names = os.listdir(class_dir)\n",
    "        images[c] = np.zeros((len(im_names), size, size, channels))\n",
    "        for i, img in enumerate(im_names):\n",
    "            im = np.asarray(Image.open(class_dir / img))\n",
    "            images[c][i] = im/255\n",
    "\n",
    "    data = np.concatenate([images[c] for c in classes], axis=0)\n",
    "    labels = []\n",
    "    for c in classes:\n",
    "        labels += [class_nums[c]]*len(images[c])\n",
    "    labels = np.array(labels)\n",
    "    \n",
    "    return data, labels, to_categorical(labels, n_classes)\n",
    "\n",
    "def import_achtergrond(p, N=60):\n",
    "    im_names = os.listdir(p)\n",
    "    NN = min(N, len(im_names))\n",
    "\n",
    "    npd_images = np.zeros((NN, size, size, channels))\n",
    "    for i, img in enumerate(im_names[:NN]):\n",
    "        im = np.asarray(Image.open(p / img))\n",
    "        npd_images[i] = im/255\n",
    "    class_npd = np.full((npd_images.shape[0], n_classes), 1/n_classes)\n",
    "\n",
    "    return npd_images, class_npd"
   ]
  },
  {
   "cell_type": "code",
   "execution_count": null,
   "metadata": {},
   "outputs": [],
   "source": [
    "training_data, training_labels, class_train = import_voorwerpen(resize_dir / 'train')\n",
    "test_data, test_labels, class_test = import_voorwerpen(resize_dir / 'test')\n",
    "\n",
    "Ntrain = training_data.shape[0]\n",
    "Ntest = test_data.shape[0]\n",
    "\n",
    "npd_train_images, class_npd_train = import_achtergrond(resize_dir / achtergrond_fn, N=2*Ntrain)\n",
    "\n",
    "training_data_ext = np.concatenate((training_data, npd_train_images), axis=0)\n",
    "class_train_ext = np.concatenate((class_train, class_npd_train), axis=0)"
   ]
  },
  {
   "cell_type": "markdown",
   "metadata": {},
   "source": [
    "#### Maak een model\n",
    "We nemen een standaard model: Mobilenet. Dit model is apart ontworpen voor mobile devices zoals smartphones. Het enige wat we dit model nog moeten vertellen is hoeveel soorten objecten het moet kunnen onderscheiden."
   ]
  },
  {
   "cell_type": "code",
   "execution_count": null,
   "metadata": {},
   "outputs": [],
   "source": [
    "base_model = applications.MobileNet(weights='imagenet', include_top=False, input_shape=input_shape)\n",
    "\n",
    "x = base_model.output\n",
    "x = Flatten()(x)\n",
    "\n",
    "predictions = Dense(n_classes, activation='softmax')(x)\n",
    "model = Model(inputs=base_model.input, outputs=predictions)"
   ]
  },
  {
   "cell_type": "markdown",
   "metadata": {},
   "source": [
    "#### Een functie om het model te trainen"
   ]
  },
  {
   "cell_type": "code",
   "execution_count": null,
   "metadata": {},
   "outputs": [],
   "source": [
    "def train_model(m, tr_data, tr_class, bs, epochs, lr=1.0e-4, fn=None):\n",
    "    cp = ModelCheckpoint(str(saved_model_dir / fn),\n",
    "                         monitor='val_loss',\n",
    "                         verbose=0, # verbosity - 0 or 1\n",
    "                         save_best_only= True,\n",
    "                         mode='auto')\n",
    "\n",
    "    m.compile(loss='categorical_crossentropy',\n",
    "              optimizer=Adam(learning_rate=lr),\n",
    "              metrics = ['accuracy'])\n",
    "    \n",
    "    details = m.fit(tr_data, tr_class,\n",
    "                    batch_size = bs,\n",
    "                    epochs = epochs,\n",
    "                    shuffle = True,\n",
    "                    validation_data= (test_data, class_test),\n",
    "                    callbacks=[cp],\n",
    "                    verbose=1)\n",
    "    if not fn is None:\n",
    "        m.save(str(model_dir / fn))\n",
    "    return details"
   ]
  },
  {
   "cell_type": "markdown",
   "metadata": {},
   "source": [
    "#### Train het model\n",
    "Nu komt het echte werk: de training van het model. De batch size is 32, dat betekent dat het model telkens 32 plaatjes bekijkt en daarop zijn gewichten aanpast. Het aantal epochs is 6, dat betekent dat alle plaatjes 6 keer worden bekeken.\n",
    "\n",
    "Deze stap kan lang duren, afhankelijk van de rekenkracht van je computer."
   ]
  },
  {
   "cell_type": "code",
   "execution_count": null,
   "metadata": {},
   "outputs": [],
   "source": [
    "%%time\n",
    "\n",
    "batch_size = 32\n",
    "epochs = 6\n",
    "\n",
    "model_details = train_model(model, training_data_ext, class_train_ext, bs=batch_size, epochs=epochs, fn=keras_name)"
   ]
  },
  {
   "cell_type": "markdown",
   "metadata": {},
   "source": [
    "#### Bekijk de training\n",
    "Deze grafieken laten zien hoe goed het model was na iedere epoch (een epoch was 1 keer alle trainings plaatjes bekijken)."
   ]
  },
  {
   "cell_type": "code",
   "execution_count": null,
   "metadata": {},
   "outputs": [],
   "source": [
    "plot_model(model_details, plot_dir / \"model_details.png\")"
   ]
  },
  {
   "cell_type": "markdown",
   "metadata": {},
   "source": [
    "#### Bekijk het resultaat\n",
    "We kunnen kijken hoe goed het model is op de test plaatjes."
   ]
  },
  {
   "cell_type": "code",
   "execution_count": null,
   "metadata": {},
   "outputs": [],
   "source": [
    "class_pred = model.predict(test_data)\n",
    "labels_pred = np.argmax(class_pred,axis=1)\n",
    "print(f'nauwkeurigheid op de test plaatjes: {100*np.mean(labels_pred==test_labels):.2f}%')\n",
    "\n",
    "idx = rd.sample(range(Ntest), 12)\n",
    "plot_images(test_data[idx], test_labels[idx], classes, labels_pred[idx])"
   ]
  },
  {
   "cell_type": "markdown",
   "metadata": {},
   "source": [
    "#### Converteer het model naar een tensorflow lite model\n",
    "Om het model in een Android app te kunnen gebruiken moet het naar een iets ander formaat worden omgezet. De gewichten in het model krijgen iets minder bits waardoor het model iets kleiner wordt."
   ]
  },
  {
   "cell_type": "code",
   "execution_count": null,
   "metadata": {},
   "outputs": [],
   "source": [
    "converter = tf.lite.TFLiteConverter.from_keras_model(model)\n",
    "tflite_model = converter.convert()\n",
    "\n",
    "(model_dir / lite_name).write_bytes(tflite_model)"
   ]
  },
  {
   "cell_type": "markdown",
   "metadata": {},
   "source": [
    "#### Voeg metadata toe\n",
    "De Android app moet nog een paar dingen weten ocer het models, zoals wat het input formaat is en hoeveel soorten objecten het moet kunnen onderscheiden. Deze informatie komt in een aparte json file. Je kunt ook je eigen naam hier in zetten als auteur."
   ]
  },
  {
   "cell_type": "code",
   "execution_count": null,
   "metadata": {},
   "outputs": [],
   "source": [
    "MODEL_INFO = {\n",
    "    'author' : '<je eigen naam>',\n",
    "    'size' : size,\n",
    "    'classes' : classes,\n",
    "    'label_fn' : str(voorwerp_fn),\n",
    "    'label_path' : voorwerp_fn.resolve(),\n",
    "    'model_path' : (model_dir / lite_name).resolve(),\n",
    "    'export_model_path' : (export_model_dir / lite_name).resolve(),\n",
    "    'json_fn' : export_model_dir / json_name\n",
    "}\n",
    "generate_metadata(MODEL_INFO)"
   ]
  }
 ],
 "metadata": {
  "kernelspec": {
   "display_name": "Python 3 (ipykernel)",
   "language": "python",
   "name": "python3"
  },
  "language_info": {
   "codemirror_mode": {
    "name": "ipython",
    "version": 3
   },
   "file_extension": ".py",
   "mimetype": "text/x-python",
   "name": "python",
   "nbconvert_exporter": "python",
   "pygments_lexer": "ipython3",
   "version": "3.9.9"
  }
 },
 "nbformat": 4,
 "nbformat_minor": 4
}
